{
  "nbformat": 4,
  "nbformat_minor": 0,
  "metadata": {
    "colab": {
      "provenance": [],
      "toc_visible": true,
      "authorship_tag": "ABX9TyNyWtfev2JI0KjyI345ekSP",
      "include_colab_link": true
    },
    "kernelspec": {
      "name": "python3",
      "display_name": "Python 3"
    },
    "language_info": {
      "name": "python"
    }
  },
  "cells": [
    {
      "cell_type": "markdown",
      "metadata": {
        "id": "view-in-github",
        "colab_type": "text"
      },
      "source": [
        "<a href=\"https://colab.research.google.com/github/ricardogiorgiano/FormulariodeLogin/blob/main/Aula_Pr%C3%A1tica_1_LP.ipynb\" target=\"_parent\"><img src=\"https://colab.research.google.com/assets/colab-badge.svg\" alt=\"Open In Colab\"/></a>"
      ]
    },
    {
      "cell_type": "code",
      "execution_count": null,
      "metadata": {
        "id": "9IQYx9twJa-w"
      },
      "outputs": [],
      "source": [
        "NUMPY - 1º Abrir documentção\n"
      ]
    },
    {
      "cell_type": "code",
      "source": [
        "import numpy as np\n",
        "num_elementos = 100000000\n",
        "# lista_elementos = []\n",
        "# for x in range (num_elementos):\n",
        "#   lista_elementos.append(x)\n",
        "# print(lista_elementos[-1])\n",
        "array_elementos = np.arange(num_elementos)\n",
        "print (array_elementos[-1])\n"
      ],
      "metadata": {
        "colab": {
          "base_uri": "https://localhost:8080/"
        },
        "id": "GzAbHAn2J30k",
        "outputId": "eb235346-2f85-4fe7-e849-a0301717267b"
      },
      "execution_count": 3,
      "outputs": [
        {
          "output_type": "stream",
          "name": "stdout",
          "text": [
            "99999999\n"
          ]
        }
      ]
    },
    {
      "cell_type": "markdown",
      "source": [
        "Qual a diferença do array NUMPY para list in python\n"
      ],
      "metadata": {
        "id": "_7wJ_81PJrgI"
      }
    },
    {
      "cell_type": "markdown",
      "source": [
        "# NUMPY - 3º Arrays em numpy"
      ],
      "metadata": {
        "id": "bKeKmEGLJ2db"
      }
    },
    {
      "cell_type": "code",
      "source": [
        "\n",
        "array_teste = np.array([0,1,2,3,4,5,6,7,8,9])\n",
        "print(f'Criação de array numpy utilizando o método .array:\\n{np.array([0,1,2,3,4,5,6,7,8,9])}\\n')\n",
        "print(f'Criação de array numpy utilizando o método .ones:\\n{np.ones([10])}\\n')\n",
        "print(f'Criação de array numpy utilizando o método .empty:\\n{np.empty(12)}\\n')\n",
        "print(f'Criação de array numpy utilizando o método .arange:\\n{np.arange(101)}\\n')\n",
        "print(f'Criação de array numpy utilizando o método .linspace:\\n{np.linspace(0, 100, num = 101)}\\n')\n",
        "\n",
        "\n",
        "\n",
        "\n",
        "\n"
      ],
      "metadata": {
        "colab": {
          "base_uri": "https://localhost:8080/"
        },
        "id": "APRtosv-MTTc",
        "outputId": "d42d41ed-8ae6-4453-be4e-d8f5cbc90e16"
      },
      "execution_count": 19,
      "outputs": [
        {
          "output_type": "stream",
          "name": "stdout",
          "text": [
            "Criação de array numpy utilizando o método .array:\n",
            "[0 1 2 3 4 5 6 7 8 9]\n",
            "\n",
            "Criação de array numpy utilizando o método .ones:\n",
            "[1. 1. 1. 1. 1. 1. 1. 1. 1. 1.]\n",
            "\n",
            "Criação de array numpy utilizando o método .empty:\n",
            "[0. 0. 0. 0. 0. 0. 0. 0. 0. 0. 0. 0.]\n",
            "\n",
            "Criação de array numpy utilizando o método .arange:\n",
            "[  0   1   2   3   4   5   6   7   8   9  10  11  12  13  14  15  16  17\n",
            "  18  19  20  21  22  23  24  25  26  27  28  29  30  31  32  33  34  35\n",
            "  36  37  38  39  40  41  42  43  44  45  46  47  48  49  50  51  52  53\n",
            "  54  55  56  57  58  59  60  61  62  63  64  65  66  67  68  69  70  71\n",
            "  72  73  74  75  76  77  78  79  80  81  82  83  84  85  86  87  88  89\n",
            "  90  91  92  93  94  95  96  97  98  99 100]\n",
            "\n",
            "Criação de array numpy utilizando o método .linspace:\n",
            "[  0.   1.   2.   3.   4.   5.   6.   7.   8.   9.  10.  11.  12.  13.\n",
            "  14.  15.  16.  17.  18.  19.  20.  21.  22.  23.  24.  25.  26.  27.\n",
            "  28.  29.  30.  31.  32.  33.  34.  35.  36.  37.  38.  39.  40.  41.\n",
            "  42.  43.  44.  45.  46.  47.  48.  49.  50.  51.  52.  53.  54.  55.\n",
            "  56.  57.  58.  59.  60.  61.  62.  63.  64.  65.  66.  67.  68.  69.\n",
            "  70.  71.  72.  73.  74.  75.  76.  77.  78.  79.  80.  81.  82.  83.\n",
            "  84.  85.  86.  87.  88.  89.  90.  91.  92.  93.  94.  95.  96.  97.\n",
            "  98.  99. 100.]\n",
            "\n"
          ]
        }
      ]
    },
    {
      "cell_type": "markdown",
      "source": [
        "# NUMPY 4º  A importancia de definir o tipo de dados;"
      ],
      "metadata": {
        "id": "bNPcXlJdQIrm"
      }
    },
    {
      "cell_type": "code",
      "source": [
        "import numpy as np\n",
        "\n",
        "num_elementos = 100000000\n",
        "array_elementos = np.zeros(num_elementos, dtype = np.int8)\n",
        "\n"
      ],
      "metadata": {
        "id": "W_1NcqdMQaU7"
      },
      "execution_count": 20,
      "outputs": []
    }
  ]
}